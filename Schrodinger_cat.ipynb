{
 "cells": [
  {
   "cell_type": "markdown",
   "id": "733f9490",
   "metadata": {
    "id": "733f9490"
   },
   "source": [
    "# Schr&ouml;dinger's cat\n",
    "\n",
    "\n",
    "\"Schr&ouml;dinger's Cat\" is an [thought experiment](https://en.wikipedia.org/wiki/Thought_experiment) that ilustrates some basics concepts of quantum machanics. No cats were ever harmed: [Schrodinger's Cat](https://en.wikipedia.org/wiki/Schr%C3%B6dinger%27s_cat) was simply a teaching tool that Schr&ouml;dinger used to show how quantum theory can lead to paradoxical results. \n",
    "\n",
    "In Schrodinger's imaginary experiment, a cat is placed in a box with a very small amount of a radioactive substance. When the radioactive substance decays, it triggers a Geiger counter which causes (in various version of the experiment) either a poison to be released or explosion to occur, either of which kills the kitty. Now, the decay of the radioactive substance is governed by the laws of quantum mechanics, the chance that one of the atoms in the substance decays in, say, an hour is 50%. So the radioactive substance is in a superposition state between \"decayed\" and \"not decayed\" at the end of the hour. Similarly, the Geiger counter is in a superposition state of \"registered a count\" and \"didn't register a count\" at the end of the hour. And the poor kitten is also in a superposition state of \"dead\" and \"alive\" at the end of the hour. If we apply an [observer-driven](https://www.youtube.com/watch?v=NvzSLByrw4Q) interpretation of Quantum Mechanics, there is no conscious observer present (everything is in a sealed box), so the system stays as a combination of the two possibilities: the cat is dead and alive at the same time, and is only murdered (or saved) when an inhumane (or kind) soul opens the box and forces the cat's wavefunction to collapse. [This crazy paradox](https://www.straightdope.com/21341296/the-story-of-schroedinger-s-cat-an-epic-poem) is one reason many people (including Einstein and Schr&ouml;dinger), but not Heisenberg and Bohr, prefer alterative interpretations of quantum mechanics which seem less paradoxical."
   ]
  },
  {
   "cell_type": "code",
   "execution_count": 2,
   "id": "30086a5f",
   "metadata": {
    "colab": {
     "base_uri": "https://localhost:8080/"
    },
    "id": "30086a5f",
    "outputId": "6b8cbe2c-3b0e-43b6-d378-269e42c66843"
   },
   "outputs": [
    {
     "name": "stdout",
     "output_type": "stream",
     "text": [
      "Schrodinger's cat is dead: None.\n",
      "Schrodinger's cat is alive: None.\n"
     ]
    }
   ],
   "source": [
    "def schrodinger_cat():\n",
    "    \"\"\"\n",
    "    Specify, according to the thought experiment, the state of Schrodinger's cat\n",
    "    \n",
    "    Parameters:\n",
    "    \n",
    "    is_alive: bool (True or False)\n",
    "    is_dead: bool (True or False)\n",
    "    \"\"\"\n",
    "    \n",
    "    ### START YOUR CODE HERE\n",
    "    is_alive = None\n",
    "    is_dead = None\n",
    "    ### END YOUR CODE HERE\n",
    "    \n",
    "    return is_alive, is_dead\n",
    "    \n",
    "    \n",
    "is_alive, is_dead = schrodinger_cat()\n",
    "print(f\"Schrodinger's cat is dead: {is_dead}.\")\n",
    "print(f\"Schrodinger's cat is alive: {is_alive}.\")"
   ]
  }
 ],
 "metadata": {
  "colab": {
   "collapsed_sections": [],
   "name": "Schrodinger_cat.ipynb",
   "provenance": []
  },
  "kernelspec": {
   "display_name": "Python 3 (ipykernel)",
   "language": "python",
   "name": "python3"
  },
  "language_info": {
   "codemirror_mode": {
    "name": "ipython",
    "version": 3
   },
   "file_extension": ".py",
   "mimetype": "text/x-python",
   "name": "python",
   "nbconvert_exporter": "python",
   "pygments_lexer": "ipython3",
   "version": "3.9.7"
  }
 },
 "nbformat": 4,
 "nbformat_minor": 5
}
