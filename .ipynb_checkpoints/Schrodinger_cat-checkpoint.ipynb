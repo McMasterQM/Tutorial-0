{
 "cells": [
  {
   "cell_type": "markdown",
   "id": "733f9490",
   "metadata": {},
   "source": [
    "# Schr&ouml;dinger cat\n",
    "\n",
    "\n",
    "\"Schrodinger's Cat\" is an imaginary experiment that ilustrates some basics concepts of quantum machanics. Schrodinger's Cat is not even part of any scientific theory. However, you have to keep in mind that Schrodinger's Cat was simply a teaching tool that Schrodinger used to show how some people were misinterpreting quantum theory. Schrodinger constructed his imaginary experiment with the cat to demonstrate that simple misinterpretations of quantum theory can lead to absurd results which do not match the real world. \n",
    "\n",
    "\n",
    "In Schrodinger's imaginary experiment, you place a cat in a box with a tiny bit of radioactive substance. When the radioactive substance decays, it triggers a Geiger counter which causes a poison or explosion to be released that kills the cat. Now, the decay of the radioactive substance is governed by the laws of quantum mechanics. This means that the atom starts in a combined state of \"going to decay\" and \"not going to decay\". If we apply the [observer-driven](https://www.youtube.com/watch?v=NvzSLByrw4Q) idea to this case, there is no conscious observer present (everything is in a sealed box), so the whole system stays as a combination of the two possibilities. The cat ends up both dead and alive at the same time. Because the existence of a cat that is both dead and alive at the same time is absurd and does not happen in the real world, this thought experiment shows that wavefunction collapses are not just driven by conscious observers."
   ]
  },
  {
   "cell_type": "code",
   "execution_count": 1,
   "id": "30086a5f",
   "metadata": {},
   "outputs": [
    {
     "name": "stdout",
     "output_type": "stream",
     "text": [
      "Shrodinger cat in the box is dead: None and alive: None\n"
     ]
    }
   ],
   "source": [
    "def schrodinger_cat():\n",
    "    \"\"\"\n",
    "    according to the imaginary Schrodinger's experiment, you need to answer in what state cat exixsts in the box\n",
    "    \n",
    "    Parameters:\n",
    "    \n",
    "    is_alive: bool (True or False)\n",
    "    is_dead: bool (True or False)\n",
    "    \"\"\"\n",
    "    \n",
    "    is_alive = True\n",
    "    is_dead = True\n",
    "    \n",
    "    return is_alive, is_dead\n",
    "    \n",
    "    \n",
    "is_alive, is_dead = shrodinger_cat()\n",
    "print(f\"Shrodinger cat in the box is dead: {is_dead} and alive: {is_alive}\")"
   ]
  }
 ],
 "metadata": {
  "kernelspec": {
   "display_name": "Python 3 (ipykernel)",
   "language": "python",
   "name": "python3"
  },
  "language_info": {
   "codemirror_mode": {
    "name": "ipython",
    "version": 3
   },
   "file_extension": ".py",
   "mimetype": "text/x-python",
   "name": "python",
   "nbconvert_exporter": "python",
   "pygments_lexer": "ipython3",
   "version": "3.9.7"
  }
 },
 "nbformat": 4,
 "nbformat_minor": 5
}
